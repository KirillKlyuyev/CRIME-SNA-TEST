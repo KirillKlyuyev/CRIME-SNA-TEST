{
 "cells": [
  {
   "cell_type": "code",
   "execution_count": null,
   "metadata": {
    "collapsed": true
   },
   "outputs": [],
   "source": [
    "# The 'os' module gives us all the tools we need to search in the file system\n",
    "import os\n",
    "# Magic to show the plots within the notebook:\n",
    "%matplotlib inline\n",
    "# Import libraries to be used\n",
    "import matplotlib.pyplot as plt\n",
    "import numpy as np\n",
    "import pandas as pd\n",
    "import csv as csv\n",
    "import glob\n",
    "import time"
   ]
  },
  {
   "cell_type": "code",
   "execution_count": null,
   "metadata": {
    "collapsed": false
   },
   "outputs": [],
   "source": [
    "t=time.process_time()\n",
    "path = \"C:\\\\Users\\\\Lenovo\\\\Desktop\\\\Police - Extracted\"\n",
    "csvFiles = glob.glob(path + \"\\\\*-*-street.csv\")\n",
    "\n",
    "csvlist = []\n",
    "\n",
    "for files in csvFiles:\n",
    "     raw_data_df = pd.read_csv(files, index_col=None, header=0)\n",
    "     csvlist.append(raw_data_df)\n",
    "\n",
    "df = pd.concat(csvlist, ignore_index=True)\n",
    "elapsed_time=time.process_time()-t\n",
    "print(\"Opening and combining raw data in a single data frame took %.2f seconds for %d csv files.\"\n",
    "       % (elapsed_time, len(csvlist)))"
   ]
  },
  {
   "cell_type": "code",
   "execution_count": null,
   "metadata": {
    "collapsed": false
   },
   "outputs": [],
   "source": [
    "df.info()"
   ]
  },
  {
   "cell_type": "code",
   "execution_count": null,
   "metadata": {
    "collapsed": true
   },
   "outputs": [],
   "source": [
    "del df['Context']\n",
    "df = df.dropna(subset=['Last outcome category','LSOA code','LSOA name','Longitude','Latitude','Crime ID'])"
   ]
  },
  {
   "cell_type": "code",
   "execution_count": null,
   "metadata": {
    "collapsed": false
   },
   "outputs": [],
   "source": [
    "df.info()"
   ]
  },
  {
   "cell_type": "code",
   "execution_count": null,
   "metadata": {
    "collapsed": true
   },
   "outputs": [],
   "source": [
    "df['Latitude']=round(df['Latitude'],6)\n",
    "df['Longitude']=round(df['Longitude'],6)"
   ]
  },
  {
   "cell_type": "code",
   "execution_count": null,
   "metadata": {
    "collapsed": true
   },
   "outputs": [],
   "source": [
    "df['Records']=1"
   ]
  },
  {
   "cell_type": "code",
   "execution_count": null,
   "metadata": {
    "collapsed": true
   },
   "outputs": [],
   "source": [
    "df['Position'] = list(zip(df['Latitude'],df['Longitude']))"
   ]
  },
  {
   "cell_type": "code",
   "execution_count": null,
   "metadata": {
    "collapsed": true
   },
   "outputs": [],
   "source": [
    "location_raw_data = {'Latitude': df['Latitude'],\n",
    "                     'Longitude': df['Longitude']} \n",
    "\n",
    "location_df = pd.DataFrame(location_raw_data, columns = ['Latitude', 'Longitude'])\n",
    "\n",
    "location_df['Position'] = list(zip(location_df['Latitude'],location_df['Longitude']))\n",
    "\n",
    "location_df = location_df.drop_duplicates()\n",
    "\n",
    "location_df = location_df.reset_index(drop=True)\n",
    "\n",
    "Nodenumber = []\n",
    "for i in range(len(location_df)): \n",
    "  Nodenumber.append(i+1)\n",
    "\n",
    "location_df['Nodenumber'] = pd.Series(Nodenumber, index=location_df.index)\n",
    "\n",
    "location_df['Node_id'] = location_df.apply(lambda x:'%s-N' % (x['Nodenumber']),axis=1)"
   ]
  },
  {
   "cell_type": "code",
   "execution_count": null,
   "metadata": {
    "collapsed": false
   },
   "outputs": [],
   "source": [
    "nodes = dict(zip(location_df['Position'], location_df['Node_id']))\n",
    "df['Node_id'] = df['Position'].map(nodes)"
   ]
  },
  {
   "cell_type": "code",
   "execution_count": null,
   "metadata": {
    "collapsed": false
   },
   "outputs": [],
   "source": [
    "df.info()"
   ]
  },
  {
   "cell_type": "code",
   "execution_count": null,
   "metadata": {
    "collapsed": true
   },
   "outputs": [],
   "source": [
    "df = df.reset_index(drop=True)"
   ]
  },
  {
   "cell_type": "code",
   "execution_count": null,
   "metadata": {
    "collapsed": false
   },
   "outputs": [],
   "source": [
    "df.head(2)"
   ]
  },
  {
   "cell_type": "code",
   "execution_count": null,
   "metadata": {
    "collapsed": false
   },
   "outputs": [],
   "source": [
    "from mpl_toolkits.basemap import Basemap\n",
    "import matplotlib.pyplot as plt\n",
    "import numpy as np"
   ]
  },
  {
   "cell_type": "code",
   "execution_count": null,
   "metadata": {
    "collapsed": true
   },
   "outputs": [],
   "source": [
    "import gmplot"
   ]
  },
  {
   "cell_type": "code",
   "execution_count": null,
   "metadata": {
    "collapsed": false
   },
   "outputs": [],
   "source": [
    "import plotly.plotly as py\n",
    "import pandas as pd"
   ]
  },
  {
   "cell_type": "code",
   "execution_count": null,
   "metadata": {
    "collapsed": true
   },
   "outputs": [],
   "source": [
    "import matplotlib.pyplot as plt\n",
    "import matplotlib.cm\n",
    " \n",
    "from mpl_toolkits.basemap import Basemap\n",
    "from matplotlib.patches import Polygon\n",
    "from matplotlib.collections import PatchCollection\n",
    "from matplotlib.colors import Normalize"
   ]
  },
  {
   "cell_type": "code",
   "execution_count": null,
   "metadata": {
    "collapsed": false
   },
   "outputs": [],
   "source": [
    "map_raw_data = {'Latitude': df['Latitude'],\n",
    "                     'Longitude': df['Longitude']} \n",
    "\n",
    "map_df = pd.DataFrame(map_raw_data, columns = ['Latitude', 'Longitude'])\n",
    "\n",
    "map_df = map_df.drop_duplicates()\n",
    "\n",
    "map_df = map_df.reset_index(drop=True)\n",
    "\n",
    "map_df['Position'] = list(zip(map_df['Latitude'],map_df['Longitude']))\n",
    "\n",
    "nodes = dict(zip(location_df['Position'], location_df['Node_id']))\n",
    "map_df['Node_id'] = map_df['Position'].map(nodes)"
   ]
  },
  {
   "cell_type": "code",
   "execution_count": null,
   "metadata": {
    "collapsed": false,
    "scrolled": true
   },
   "outputs": [],
   "source": [
    "t=time.process_time()\n",
    "map_df['Count'] = df.groupby(['Node_id'])['Records'].sum().values\n",
    "elapsed_time=time.process_time()-t\n",
    "print(\"Bringing how many crime records there are for every position node took %.2f seconds for %d nodes.\"\n",
    "       % (elapsed_time, len(map_df)))\n",
    "map_df"
   ]
  },
  {
   "cell_type": "code",
   "execution_count": null,
   "metadata": {
    "collapsed": true
   },
   "outputs": [],
   "source": []
  }
 ],
 "metadata": {
  "anaconda-cloud": {},
  "kernelspec": {
   "display_name": "Python [conda root]",
   "language": "python",
   "name": "conda-root-py"
  },
  "language_info": {
   "codemirror_mode": {
    "name": "ipython",
    "version": 3
   },
   "file_extension": ".py",
   "mimetype": "text/x-python",
   "name": "python",
   "nbconvert_exporter": "python",
   "pygments_lexer": "ipython3",
   "version": "3.5.2"
  }
 },
 "nbformat": 4,
 "nbformat_minor": 1
}
